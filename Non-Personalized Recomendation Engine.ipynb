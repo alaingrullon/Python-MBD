{
 "cells": [
  {
   "cell_type": "markdown",
   "metadata": {},
   "source": [
    "# IE - Master in Business Analytics and Big Data"
   ]
  },
  {
   "cell_type": "markdown",
   "metadata": {},
   "source": [
    "## Recommendation Systems"
   ]
  },
  {
   "cell_type": "markdown",
   "metadata": {},
   "source": [
    "## Building a Non Personalized Recommendation Engine\n",
    "### By: Alain Grullón González"
   ]
  },
  {
   "cell_type": "markdown",
   "metadata": {},
   "source": [
    "Import necessary libraries"
   ]
  },
  {
   "cell_type": "code",
   "execution_count": 1,
   "metadata": {},
   "outputs": [],
   "source": [
    "import pandas as pd"
   ]
  },
  {
   "cell_type": "markdown",
   "metadata": {},
   "source": [
    "Load the critics dataset"
   ]
  },
  {
   "cell_type": "code",
   "execution_count": 2,
   "metadata": {},
   "outputs": [
    {
     "data": {
      "text/html": [
       "<div>\n",
       "<style scoped>\n",
       "    .dataframe tbody tr th:only-of-type {\n",
       "        vertical-align: middle;\n",
       "    }\n",
       "\n",
       "    .dataframe tbody tr th {\n",
       "        vertical-align: top;\n",
       "    }\n",
       "\n",
       "    .dataframe thead th {\n",
       "        text-align: right;\n",
       "    }\n",
       "</style>\n",
       "<table border=\"1\" class=\"dataframe\">\n",
       "  <thead>\n",
       "    <tr style=\"text-align: right;\">\n",
       "      <th></th>\n",
       "      <th>User</th>\n",
       "      <th>Star Wars IV - A New Hope</th>\n",
       "      <th>Star Wars VI - Return of the Jedi</th>\n",
       "      <th>Forrest Gump</th>\n",
       "      <th>The Shawshank Redemption</th>\n",
       "      <th>The Silence of the Lambs</th>\n",
       "      <th>Gladiator</th>\n",
       "      <th>Toy Story</th>\n",
       "      <th>Saving Private Ryan</th>\n",
       "      <th>Pulp Fiction</th>\n",
       "      <th>...</th>\n",
       "      <th>Shakespeare in Love</th>\n",
       "      <th>Total Recall</th>\n",
       "      <th>Independence Day</th>\n",
       "      <th>Blade Runner</th>\n",
       "      <th>Groundhog Day</th>\n",
       "      <th>The Matrix</th>\n",
       "      <th>Schindler's List</th>\n",
       "      <th>The Sixth Sense</th>\n",
       "      <th>Raiders of the Lost Ark</th>\n",
       "      <th>Babe</th>\n",
       "    </tr>\n",
       "  </thead>\n",
       "  <tbody>\n",
       "    <tr>\n",
       "      <th>0</th>\n",
       "      <td>John</td>\n",
       "      <td>1.0</td>\n",
       "      <td>5.0</td>\n",
       "      <td>2.0</td>\n",
       "      <td>NaN</td>\n",
       "      <td>4.0</td>\n",
       "      <td>4.0</td>\n",
       "      <td>2.0</td>\n",
       "      <td>2.0</td>\n",
       "      <td>NaN</td>\n",
       "      <td>...</td>\n",
       "      <td>2.0</td>\n",
       "      <td>NaN</td>\n",
       "      <td>5.0</td>\n",
       "      <td>2.0</td>\n",
       "      <td>NaN</td>\n",
       "      <td>4.0</td>\n",
       "      <td>2.0</td>\n",
       "      <td>5.0</td>\n",
       "      <td>NaN</td>\n",
       "      <td>NaN</td>\n",
       "    </tr>\n",
       "    <tr>\n",
       "      <th>1</th>\n",
       "      <td>Maria</td>\n",
       "      <td>5.0</td>\n",
       "      <td>3.0</td>\n",
       "      <td>NaN</td>\n",
       "      <td>2.0</td>\n",
       "      <td>4.0</td>\n",
       "      <td>2.0</td>\n",
       "      <td>1.0</td>\n",
       "      <td>NaN</td>\n",
       "      <td>NaN</td>\n",
       "      <td>...</td>\n",
       "      <td>3.0</td>\n",
       "      <td>2.0</td>\n",
       "      <td>2.0</td>\n",
       "      <td>NaN</td>\n",
       "      <td>2.0</td>\n",
       "      <td>NaN</td>\n",
       "      <td>5.0</td>\n",
       "      <td>1.0</td>\n",
       "      <td>3.0</td>\n",
       "      <td>NaN</td>\n",
       "    </tr>\n",
       "    <tr>\n",
       "      <th>2</th>\n",
       "      <td>Anton</td>\n",
       "      <td>NaN</td>\n",
       "      <td>NaN</td>\n",
       "      <td>NaN</td>\n",
       "      <td>5.0</td>\n",
       "      <td>2.0</td>\n",
       "      <td>NaN</td>\n",
       "      <td>4.0</td>\n",
       "      <td>NaN</td>\n",
       "      <td>NaN</td>\n",
       "      <td>...</td>\n",
       "      <td>NaN</td>\n",
       "      <td>1.0</td>\n",
       "      <td>4.0</td>\n",
       "      <td>4.0</td>\n",
       "      <td>1.0</td>\n",
       "      <td>1.0</td>\n",
       "      <td>2.0</td>\n",
       "      <td>3.0</td>\n",
       "      <td>1.0</td>\n",
       "      <td>3.0</td>\n",
       "    </tr>\n",
       "    <tr>\n",
       "      <th>3</th>\n",
       "      <td>Roger</td>\n",
       "      <td>NaN</td>\n",
       "      <td>3.0</td>\n",
       "      <td>NaN</td>\n",
       "      <td>NaN</td>\n",
       "      <td>NaN</td>\n",
       "      <td>1.0</td>\n",
       "      <td>2.0</td>\n",
       "      <td>3.0</td>\n",
       "      <td>4.0</td>\n",
       "      <td>...</td>\n",
       "      <td>NaN</td>\n",
       "      <td>4.0</td>\n",
       "      <td>1.0</td>\n",
       "      <td>3.0</td>\n",
       "      <td>5.0</td>\n",
       "      <td>NaN</td>\n",
       "      <td>5.0</td>\n",
       "      <td>1.0</td>\n",
       "      <td>1.0</td>\n",
       "      <td>2.0</td>\n",
       "    </tr>\n",
       "    <tr>\n",
       "      <th>4</th>\n",
       "      <td>Martina</td>\n",
       "      <td>4.0</td>\n",
       "      <td>3.0</td>\n",
       "      <td>4.0</td>\n",
       "      <td>1.0</td>\n",
       "      <td>4.0</td>\n",
       "      <td>1.0</td>\n",
       "      <td>NaN</td>\n",
       "      <td>4.0</td>\n",
       "      <td>NaN</td>\n",
       "      <td>...</td>\n",
       "      <td>5.0</td>\n",
       "      <td>1.0</td>\n",
       "      <td>NaN</td>\n",
       "      <td>4.0</td>\n",
       "      <td>NaN</td>\n",
       "      <td>3.0</td>\n",
       "      <td>5.0</td>\n",
       "      <td>5.0</td>\n",
       "      <td>NaN</td>\n",
       "      <td>NaN</td>\n",
       "    </tr>\n",
       "  </tbody>\n",
       "</table>\n",
       "<p>5 rows × 21 columns</p>\n",
       "</div>"
      ],
      "text/plain": [
       "      User   Star Wars IV - A New Hope   Star Wars VI - Return of the Jedi  \\\n",
       "0     John                         1.0                                 5.0   \n",
       "1    Maria                         5.0                                 3.0   \n",
       "2    Anton                         NaN                                 NaN   \n",
       "3    Roger                         NaN                                 3.0   \n",
       "4  Martina                         4.0                                 3.0   \n",
       "\n",
       "   Forrest Gump  The Shawshank Redemption  The Silence of the Lambs  \\\n",
       "0           2.0                       NaN                       4.0   \n",
       "1           NaN                       2.0                       4.0   \n",
       "2           NaN                       5.0                       2.0   \n",
       "3           NaN                       NaN                       NaN   \n",
       "4           4.0                       1.0                       4.0   \n",
       "\n",
       "   Gladiator  Toy Story  Saving Private Ryan  Pulp Fiction  ...  \\\n",
       "0        4.0        2.0                  2.0           NaN  ...   \n",
       "1        2.0        1.0                  NaN           NaN  ...   \n",
       "2        NaN        4.0                  NaN           NaN  ...   \n",
       "3        1.0        2.0                  3.0           4.0  ...   \n",
       "4        1.0        NaN                  4.0           NaN  ...   \n",
       "\n",
       "   Shakespeare in Love  Total Recall  Independence Day  Blade Runner   \\\n",
       "0                  2.0           NaN               5.0            2.0   \n",
       "1                  3.0           2.0               2.0            NaN   \n",
       "2                  NaN           1.0               4.0            4.0   \n",
       "3                  NaN           4.0               1.0            3.0   \n",
       "4                  5.0           1.0               NaN            4.0   \n",
       "\n",
       "   Groundhog Day  The Matrix  Schindler's List  The Sixth Sense  \\\n",
       "0            NaN         4.0               2.0              5.0   \n",
       "1            2.0         NaN               5.0              1.0   \n",
       "2            1.0         1.0               2.0              3.0   \n",
       "3            5.0         NaN               5.0              1.0   \n",
       "4            NaN         3.0               5.0              5.0   \n",
       "\n",
       "   Raiders of the Lost Ark  Babe  \n",
       "0                      NaN   NaN  \n",
       "1                      3.0   NaN  \n",
       "2                      1.0   3.0  \n",
       "3                      1.0   2.0  \n",
       "4                      NaN   NaN  \n",
       "\n",
       "[5 rows x 21 columns]"
      ]
     },
     "execution_count": 2,
     "metadata": {},
     "output_type": "execute_result"
    }
   ],
   "source": [
    "crit_df = pd.read_csv(\"C:/Users/alain/OneDrive/Desktop/MBD/Term 2 (Python)/7. Recommendation Engines (10)/Lab 1/Data/critics.csv\")\n",
    "crit_df.head()"
   ]
  },
  {
   "cell_type": "markdown",
   "metadata": {},
   "source": [
    "**1) Top 5 Movies, by rating mean**\n",
    "\n",
    "Calculate mean rating for each movie, ordered with the highest rating listed first, and plot the top 5.\n",
    "\n",
    "The top 5 rated movies are:"
   ]
  },
  {
   "cell_type": "code",
   "execution_count": 3,
   "metadata": {},
   "outputs": [
    {
     "data": {
      "text/plain": [
       "The Shawshank Redemption      3.600000\n",
       " Star Wars IV - A New Hope    3.266667\n",
       "Blade Runner                  3.222222\n",
       "Groundhog Day                 3.166667\n",
       "The Silence of the Lambs      3.062500\n",
       "dtype: float64"
      ]
     },
     "execution_count": 3,
     "metadata": {},
     "output_type": "execute_result"
    }
   ],
   "source": [
    "crit_df.mean().sort_values(ascending=False).head(5)"
   ]
  },
  {
   "cell_type": "markdown",
   "metadata": {},
   "source": [
    "**2) Top 5 Movies, by rating distribution**\n",
    "\n",
    "Calculate the percentage of ratings for each movie that are 4 stars or higher. Order with the highest percentage first, and plot the top 5 movies with more high ratings distribution."
   ]
  },
  {
   "cell_type": "code",
   "execution_count": 4,
   "metadata": {},
   "outputs": [
    {
     "name": "stdout",
     "output_type": "stream",
     "text": [
      "The Shawshank Redemption      0.700000\n",
      " Star Wars IV - A New Hope    0.533333\n",
      "Gladiator                     0.500000\n",
      "Blade Runner                  0.444444\n",
      "The Silence of the Lambs      0.437500\n",
      "dtype: float64\n"
     ]
    }
   ],
   "source": [
    "# The moves with higher than 4 stars\n",
    "top_df = (crit_df.iloc[:,1:21]>=4).sum()\n",
    "# The total ratings per movie\n",
    "total_df = crit_df.iloc[:,1:].count()\n",
    "# Percentage of 4 stars or higher per movie\n",
    "percent_df = (top_df / total_df).sort_values(ascending=False).head(5)\n",
    "print(percent_df)"
   ]
  },
  {
   "cell_type": "markdown",
   "metadata": {},
   "source": [
    "**3) Top 5 Movies, by quantity of ratings**\n",
    "\n",
    "Count the number of ratings for each movie, order the one with most number of ratings first, submit the top 5."
   ]
  },
  {
   "cell_type": "code",
   "execution_count": 5,
   "metadata": {},
   "outputs": [
    {
     "name": "stdout",
     "output_type": "stream",
     "text": [
      "Toy Story                             17\n",
      "The Silence of the Lambs              16\n",
      " Star Wars IV - A New Hope            15\n",
      " Star Wars VI - Return of the Jedi    14\n",
      "Independence Day                      13\n",
      "dtype: int64\n"
     ]
    }
   ],
   "source": [
    "# The total ratings per movie\n",
    "total_df = crit_df.iloc[:,1:].count()\n",
    "# Top 5 most rated\n",
    "top5 = total_df.sort_values(ascending=False).head(5)\n",
    "print(top5)"
   ]
  },
  {
   "cell_type": "markdown",
   "metadata": {},
   "source": [
    "**4) People who watched Star Wars IV also watched ...**\n",
    "\n",
    "Calculate movies that most often occur with other movie. For each movie, calculate the percentage of the other movie raters who also rated that movie. Order with the highest percentage first, and submit the top 5. Select \"Star.Wars.IV...A.New.Hope\" movie by defaut. Use the (x+y)/x method."
   ]
  },
  {
   "cell_type": "code",
   "execution_count": 6,
   "metadata": {},
   "outputs": [
    {
     "data": {
      "text/plain": [
       "Toy Story                             0.933333\n",
       " Star Wars VI - Return of the Jedi    0.866667\n",
       "The Silence of the Lambs              0.800000\n",
       "Independence Day                      0.733333\n",
       "Total Recall                          0.666667\n",
       "dtype: float64"
      ]
     },
     "execution_count": 6,
     "metadata": {},
     "output_type": "execute_result"
    }
   ],
   "source": [
    "# Watched Star Wars IV\n",
    "watched_sw4 = crit_df[\" Star Wars IV - A New Hope\"].count()\n",
    "# Watched other\n",
    "watched_other = crit_df[\" Star Wars IV - A New Hope\"].notnull()\n",
    "# New DataFrame with only SW4 Watchers\n",
    "crit_df_SW4 = crit_df[watched_other]\n",
    "# New DataFrame to represent also watched...\n",
    "others_df = crit_df_SW4.drop([\"User\",\" Star Wars IV - A New Hope\"], 1)\n",
    "also_watched_df = others_df.count().sort_values(ascending=False)\n",
    "# Percentage of people who watched SWIV and also watched...\n",
    "percentage = (also_watched_df/watched_sw4).head(5)\n",
    "percentage"
   ]
  },
  {
   "cell_type": "markdown",
   "metadata": {},
   "source": [
    "**5) People who liked Babe also liked ...**\n",
    "\n",
    "Calculate the movies better rated of people who liked a movie. Select the people who liked the movie \"Babe\" (4 or 5 stars) and provide the top 5 movies they liked most."
   ]
  },
  {
   "cell_type": "code",
   "execution_count": 8,
   "metadata": {},
   "outputs": [
    {
     "data": {
      "text/plain": [
       "Groundhog Day               5.000000\n",
       "Pulp Fiction                5.000000\n",
       "The Shawshank Redemption    4.500000\n",
       "Toy Story                   4.333333\n",
       "Blade Runner                4.000000\n",
       "dtype: float64"
      ]
     },
     "execution_count": 8,
     "metadata": {},
     "output_type": "execute_result"
    }
   ],
   "source": [
    "# Babe Lovers\n",
    "bl_df = crit_df.loc[crit_df[\"Babe\"]>=4]\n",
    "# Babe Lovers + Other movies\n",
    "bl_plus_df = bl_df.drop([\"User\",\"Babe\"],1)\n",
    "# Best 5 from the Babe Lovers\n",
    "top5_babe_plus = bl_plus_df.mean().sort_values(ascending=False).head(5)\n",
    "top5_babe_plus"
   ]
  },
  {
   "cell_type": "markdown",
   "metadata": {},
   "source": [
    "**6) MovieLens**\n",
    "\n",
    "Explore a real data set and provide non-personalized ratings. You can use the MovieLens database. You can find MovieLens' dataset here: http://files.grouplens.org/datasets/movielens/ml-10m-README.html"
   ]
  },
  {
   "cell_type": "markdown",
   "metadata": {},
   "source": [
    "Lets first read the datasets in"
   ]
  },
  {
   "cell_type": "code",
   "execution_count": 9,
   "metadata": {},
   "outputs": [],
   "source": [
    "movie_df = pd.read_csv(\"C:/Users/alain/OneDrive/Desktop/MBD/Term 2 (Python)/7. Recommendation Engines (10)/Lab 1/Data/movies.csv\")\n",
    "ratings_df = pd.read_csv(\"C:/Users/alain/OneDrive/Desktop/MBD/Term 2 (Python)/7. Recommendation Engines (10)/Lab 1/Data/ratings.csv\")"
   ]
  },
  {
   "cell_type": "code",
   "execution_count": 119,
   "metadata": {},
   "outputs": [
    {
     "data": {
      "text/plain": [
       "movieId    58098\n",
       "title      58098\n",
       "genres     58098\n",
       "dtype: int64"
      ]
     },
     "execution_count": 119,
     "metadata": {},
     "output_type": "execute_result"
    }
   ],
   "source": [
    "movie_df.count()"
   ]
  },
  {
   "cell_type": "markdown",
   "metadata": {},
   "source": [
    "58,098 movies in this dataset"
   ]
  },
  {
   "cell_type": "code",
   "execution_count": 120,
   "metadata": {},
   "outputs": [
    {
     "data": {
      "text/html": [
       "<div>\n",
       "<style scoped>\n",
       "    .dataframe tbody tr th:only-of-type {\n",
       "        vertical-align: middle;\n",
       "    }\n",
       "\n",
       "    .dataframe tbody tr th {\n",
       "        vertical-align: top;\n",
       "    }\n",
       "\n",
       "    .dataframe thead th {\n",
       "        text-align: right;\n",
       "    }\n",
       "</style>\n",
       "<table border=\"1\" class=\"dataframe\">\n",
       "  <thead>\n",
       "    <tr style=\"text-align: right;\">\n",
       "      <th></th>\n",
       "      <th>movieId</th>\n",
       "      <th>title</th>\n",
       "      <th>genres</th>\n",
       "    </tr>\n",
       "  </thead>\n",
       "  <tbody>\n",
       "    <tr>\n",
       "      <th>0</th>\n",
       "      <td>1</td>\n",
       "      <td>Toy Story (1995)</td>\n",
       "      <td>Adventure|Animation|Children|Comedy|Fantasy</td>\n",
       "    </tr>\n",
       "    <tr>\n",
       "      <th>1</th>\n",
       "      <td>2</td>\n",
       "      <td>Jumanji (1995)</td>\n",
       "      <td>Adventure|Children|Fantasy</td>\n",
       "    </tr>\n",
       "    <tr>\n",
       "      <th>2</th>\n",
       "      <td>3</td>\n",
       "      <td>Grumpier Old Men (1995)</td>\n",
       "      <td>Comedy|Romance</td>\n",
       "    </tr>\n",
       "    <tr>\n",
       "      <th>3</th>\n",
       "      <td>4</td>\n",
       "      <td>Waiting to Exhale (1995)</td>\n",
       "      <td>Comedy|Drama|Romance</td>\n",
       "    </tr>\n",
       "    <tr>\n",
       "      <th>4</th>\n",
       "      <td>5</td>\n",
       "      <td>Father of the Bride Part II (1995)</td>\n",
       "      <td>Comedy</td>\n",
       "    </tr>\n",
       "  </tbody>\n",
       "</table>\n",
       "</div>"
      ],
      "text/plain": [
       "   movieId                               title  \\\n",
       "0        1                    Toy Story (1995)   \n",
       "1        2                      Jumanji (1995)   \n",
       "2        3             Grumpier Old Men (1995)   \n",
       "3        4            Waiting to Exhale (1995)   \n",
       "4        5  Father of the Bride Part II (1995)   \n",
       "\n",
       "                                        genres  \n",
       "0  Adventure|Animation|Children|Comedy|Fantasy  \n",
       "1                   Adventure|Children|Fantasy  \n",
       "2                               Comedy|Romance  \n",
       "3                         Comedy|Drama|Romance  \n",
       "4                                       Comedy  "
      ]
     },
     "execution_count": 120,
     "metadata": {},
     "output_type": "execute_result"
    }
   ],
   "source": [
    "movie_df.head()"
   ]
  },
  {
   "cell_type": "markdown",
   "metadata": {},
   "source": [
    "Lets delete the genres column since it is of no interest."
   ]
  },
  {
   "cell_type": "code",
   "execution_count": 11,
   "metadata": {},
   "outputs": [],
   "source": [
    "mov_df = movie_df.drop(\"genres\",1)"
   ]
  },
  {
   "cell_type": "markdown",
   "metadata": {},
   "source": [
    "What about ratings"
   ]
  },
  {
   "cell_type": "code",
   "execution_count": 121,
   "metadata": {},
   "outputs": [
    {
     "data": {
      "text/plain": [
       "userId       27753444\n",
       "movieId      27753444\n",
       "rating       27753444\n",
       "timestamp    27753444\n",
       "dtype: int64"
      ]
     },
     "execution_count": 121,
     "metadata": {},
     "output_type": "execute_result"
    }
   ],
   "source": [
    "ratings_df.count()"
   ]
  },
  {
   "cell_type": "markdown",
   "metadata": {},
   "source": [
    "27,753,444 ratings"
   ]
  },
  {
   "cell_type": "code",
   "execution_count": 122,
   "metadata": {},
   "outputs": [
    {
     "data": {
      "text/html": [
       "<div>\n",
       "<style scoped>\n",
       "    .dataframe tbody tr th:only-of-type {\n",
       "        vertical-align: middle;\n",
       "    }\n",
       "\n",
       "    .dataframe tbody tr th {\n",
       "        vertical-align: top;\n",
       "    }\n",
       "\n",
       "    .dataframe thead th {\n",
       "        text-align: right;\n",
       "    }\n",
       "</style>\n",
       "<table border=\"1\" class=\"dataframe\">\n",
       "  <thead>\n",
       "    <tr style=\"text-align: right;\">\n",
       "      <th></th>\n",
       "      <th>userId</th>\n",
       "      <th>movieId</th>\n",
       "      <th>rating</th>\n",
       "      <th>timestamp</th>\n",
       "    </tr>\n",
       "  </thead>\n",
       "  <tbody>\n",
       "    <tr>\n",
       "      <th>0</th>\n",
       "      <td>1</td>\n",
       "      <td>307</td>\n",
       "      <td>3.5</td>\n",
       "      <td>1256677221</td>\n",
       "    </tr>\n",
       "    <tr>\n",
       "      <th>1</th>\n",
       "      <td>1</td>\n",
       "      <td>481</td>\n",
       "      <td>3.5</td>\n",
       "      <td>1256677456</td>\n",
       "    </tr>\n",
       "    <tr>\n",
       "      <th>2</th>\n",
       "      <td>1</td>\n",
       "      <td>1091</td>\n",
       "      <td>1.5</td>\n",
       "      <td>1256677471</td>\n",
       "    </tr>\n",
       "    <tr>\n",
       "      <th>3</th>\n",
       "      <td>1</td>\n",
       "      <td>1257</td>\n",
       "      <td>4.5</td>\n",
       "      <td>1256677460</td>\n",
       "    </tr>\n",
       "    <tr>\n",
       "      <th>4</th>\n",
       "      <td>1</td>\n",
       "      <td>1449</td>\n",
       "      <td>4.5</td>\n",
       "      <td>1256677264</td>\n",
       "    </tr>\n",
       "  </tbody>\n",
       "</table>\n",
       "</div>"
      ],
      "text/plain": [
       "   userId  movieId  rating   timestamp\n",
       "0       1      307     3.5  1256677221\n",
       "1       1      481     3.5  1256677456\n",
       "2       1     1091     1.5  1256677471\n",
       "3       1     1257     4.5  1256677460\n",
       "4       1     1449     4.5  1256677264"
      ]
     },
     "execution_count": 122,
     "metadata": {},
     "output_type": "execute_result"
    }
   ],
   "source": [
    "ratings_df.head()"
   ]
  },
  {
   "cell_type": "markdown",
   "metadata": {},
   "source": [
    "Lets now drop the timestamp column "
   ]
  },
  {
   "cell_type": "code",
   "execution_count": 13,
   "metadata": {},
   "outputs": [],
   "source": [
    "rat_df = ratings_df.drop(\"timestamp\",1)"
   ]
  },
  {
   "cell_type": "markdown",
   "metadata": {},
   "source": [
    "Now, lets join these two tables together to have movie and rating in the same dataset"
   ]
  },
  {
   "cell_type": "code",
   "execution_count": 95,
   "metadata": {},
   "outputs": [],
   "source": [
    "merged_df = rat_df.merge(mov_df, on='movieId', how='left')"
   ]
  },
  {
   "cell_type": "code",
   "execution_count": 123,
   "metadata": {},
   "outputs": [
    {
     "data": {
      "text/plain": [
       "userId     27753444\n",
       "movieId    27753444\n",
       "rating     27753444\n",
       "title      27753444\n",
       "dtype: int64"
      ]
     },
     "execution_count": 123,
     "metadata": {},
     "output_type": "execute_result"
    }
   ],
   "source": [
    "merged_df.count()"
   ]
  },
  {
   "cell_type": "markdown",
   "metadata": {},
   "source": [
    "27 Million rows, good this means the merge worked."
   ]
  },
  {
   "cell_type": "markdown",
   "metadata": {},
   "source": [
    "Again, dropping redudant columns"
   ]
  },
  {
   "cell_type": "code",
   "execution_count": 128,
   "metadata": {},
   "outputs": [
    {
     "data": {
      "text/html": [
       "<div>\n",
       "<style scoped>\n",
       "    .dataframe tbody tr th:only-of-type {\n",
       "        vertical-align: middle;\n",
       "    }\n",
       "\n",
       "    .dataframe tbody tr th {\n",
       "        vertical-align: top;\n",
       "    }\n",
       "\n",
       "    .dataframe thead th {\n",
       "        text-align: right;\n",
       "    }\n",
       "</style>\n",
       "<table border=\"1\" class=\"dataframe\">\n",
       "  <thead>\n",
       "    <tr style=\"text-align: right;\">\n",
       "      <th></th>\n",
       "      <th>userId</th>\n",
       "      <th>rating</th>\n",
       "      <th>title</th>\n",
       "    </tr>\n",
       "  </thead>\n",
       "  <tbody>\n",
       "    <tr>\n",
       "      <th>27753434</th>\n",
       "      <td>283228</td>\n",
       "      <td>4.5</td>\n",
       "      <td>Night at the Opera, A (1935)</td>\n",
       "    </tr>\n",
       "    <tr>\n",
       "      <th>27753435</th>\n",
       "      <td>283228</td>\n",
       "      <td>4.5</td>\n",
       "      <td>To Have and Have Not (1944)</td>\n",
       "    </tr>\n",
       "    <tr>\n",
       "      <th>27753436</th>\n",
       "      <td>283228</td>\n",
       "      <td>5.0</td>\n",
       "      <td>Another Thin Man (1939)</td>\n",
       "    </tr>\n",
       "    <tr>\n",
       "      <th>27753437</th>\n",
       "      <td>283228</td>\n",
       "      <td>5.0</td>\n",
       "      <td>After the Thin Man (1936)</td>\n",
       "    </tr>\n",
       "    <tr>\n",
       "      <th>27753438</th>\n",
       "      <td>283228</td>\n",
       "      <td>5.0</td>\n",
       "      <td>Maltese Falcon, The (a.k.a. Dangerous Female) ...</td>\n",
       "    </tr>\n",
       "    <tr>\n",
       "      <th>27753439</th>\n",
       "      <td>283228</td>\n",
       "      <td>4.5</td>\n",
       "      <td>Day at the Races, A (1937)</td>\n",
       "    </tr>\n",
       "    <tr>\n",
       "      <th>27753440</th>\n",
       "      <td>283228</td>\n",
       "      <td>4.5</td>\n",
       "      <td>My Favorite Wife (1940)</td>\n",
       "    </tr>\n",
       "    <tr>\n",
       "      <th>27753441</th>\n",
       "      <td>283228</td>\n",
       "      <td>4.5</td>\n",
       "      <td>Serenity (2005)</td>\n",
       "    </tr>\n",
       "    <tr>\n",
       "      <th>27753442</th>\n",
       "      <td>283228</td>\n",
       "      <td>4.5</td>\n",
       "      <td>Brick (2005)</td>\n",
       "    </tr>\n",
       "    <tr>\n",
       "      <th>27753443</th>\n",
       "      <td>283228</td>\n",
       "      <td>4.5</td>\n",
       "      <td>Bourne Ultimatum, The (2007)</td>\n",
       "    </tr>\n",
       "  </tbody>\n",
       "</table>\n",
       "</div>"
      ],
      "text/plain": [
       "          userId  rating                                              title\n",
       "27753434  283228     4.5                       Night at the Opera, A (1935)\n",
       "27753435  283228     4.5                        To Have and Have Not (1944)\n",
       "27753436  283228     5.0                            Another Thin Man (1939)\n",
       "27753437  283228     5.0                          After the Thin Man (1936)\n",
       "27753438  283228     5.0  Maltese Falcon, The (a.k.a. Dangerous Female) ...\n",
       "27753439  283228     4.5                         Day at the Races, A (1937)\n",
       "27753440  283228     4.5                            My Favorite Wife (1940)\n",
       "27753441  283228     4.5                                    Serenity (2005)\n",
       "27753442  283228     4.5                                       Brick (2005)\n",
       "27753443  283228     4.5                       Bourne Ultimatum, The (2007)"
      ]
     },
     "execution_count": 128,
     "metadata": {},
     "output_type": "execute_result"
    }
   ],
   "source": [
    "merg_df = merged_df.drop([\"movieId\"],1)\n",
    "merg_df.tail(10)"
   ]
  },
  {
   "cell_type": "markdown",
   "metadata": {},
   "source": [
    "**1) The best rated movies!**"
   ]
  },
  {
   "cell_type": "code",
   "execution_count": 99,
   "metadata": {},
   "outputs": [
    {
     "data": {
      "text/html": [
       "<div>\n",
       "<style scoped>\n",
       "    .dataframe tbody tr th:only-of-type {\n",
       "        vertical-align: middle;\n",
       "    }\n",
       "\n",
       "    .dataframe tbody tr th {\n",
       "        vertical-align: top;\n",
       "    }\n",
       "\n",
       "    .dataframe thead th {\n",
       "        text-align: right;\n",
       "    }\n",
       "</style>\n",
       "<table border=\"1\" class=\"dataframe\">\n",
       "  <thead>\n",
       "    <tr style=\"text-align: right;\">\n",
       "      <th></th>\n",
       "      <th>title</th>\n",
       "      <th>userId</th>\n",
       "      <th>rating</th>\n",
       "    </tr>\n",
       "  </thead>\n",
       "  <tbody>\n",
       "    <tr>\n",
       "      <th>0</th>\n",
       "      <td>\"Great Performances\" Cats (1998)</td>\n",
       "      <td>140307.200000</td>\n",
       "      <td>2.815556</td>\n",
       "    </tr>\n",
       "    <tr>\n",
       "      <th>1</th>\n",
       "      <td>#1 Cheerleader Camp (2010)</td>\n",
       "      <td>172008.444444</td>\n",
       "      <td>2.777778</td>\n",
       "    </tr>\n",
       "    <tr>\n",
       "      <th>2</th>\n",
       "      <td>#Captured (2017)</td>\n",
       "      <td>179605.000000</td>\n",
       "      <td>2.500000</td>\n",
       "    </tr>\n",
       "    <tr>\n",
       "      <th>3</th>\n",
       "      <td>#Horror (2015)</td>\n",
       "      <td>147384.000000</td>\n",
       "      <td>2.078947</td>\n",
       "    </tr>\n",
       "    <tr>\n",
       "      <th>4</th>\n",
       "      <td>#SCREAMERS (2016)</td>\n",
       "      <td>257888.000000</td>\n",
       "      <td>2.500000</td>\n",
       "    </tr>\n",
       "  </tbody>\n",
       "</table>\n",
       "</div>"
      ],
      "text/plain": [
       "                              title         userId    rating\n",
       "0  \"Great Performances\" Cats (1998)  140307.200000  2.815556\n",
       "1        #1 Cheerleader Camp (2010)  172008.444444  2.777778\n",
       "2                  #Captured (2017)  179605.000000  2.500000\n",
       "3                    #Horror (2015)  147384.000000  2.078947\n",
       "4                 #SCREAMERS (2016)  257888.000000  2.500000"
      ]
     },
     "execution_count": 99,
     "metadata": {},
     "output_type": "execute_result"
    }
   ],
   "source": [
    "# Grouping by titles\n",
    "grouped_df = merg_df.groupby('title').mean().reset_index()\n",
    "grouped_df.head()"
   ]
  },
  {
   "cell_type": "markdown",
   "metadata": {},
   "source": [
    "Top Rated Movies"
   ]
  },
  {
   "cell_type": "code",
   "execution_count": 143,
   "metadata": {},
   "outputs": [
    {
     "data": {
      "text/html": [
       "<div>\n",
       "<style scoped>\n",
       "    .dataframe tbody tr th:only-of-type {\n",
       "        vertical-align: middle;\n",
       "    }\n",
       "\n",
       "    .dataframe tbody tr th {\n",
       "        vertical-align: top;\n",
       "    }\n",
       "\n",
       "    .dataframe thead th {\n",
       "        text-align: right;\n",
       "    }\n",
       "</style>\n",
       "<table border=\"1\" class=\"dataframe\">\n",
       "  <thead>\n",
       "    <tr style=\"text-align: right;\">\n",
       "      <th></th>\n",
       "      <th>title</th>\n",
       "      <th>userId</th>\n",
       "      <th>rating</th>\n",
       "    </tr>\n",
       "  </thead>\n",
       "  <tbody>\n",
       "    <tr>\n",
       "      <th>50501</th>\n",
       "      <td>VHS Revolution (2017)</td>\n",
       "      <td>254422.0</td>\n",
       "      <td>5.0</td>\n",
       "    </tr>\n",
       "    <tr>\n",
       "      <th>51532</th>\n",
       "      <td>We Are Mountains (1969)</td>\n",
       "      <td>74049.0</td>\n",
       "      <td>5.0</td>\n",
       "    </tr>\n",
       "    <tr>\n",
       "      <th>13333</th>\n",
       "      <td>Dragon Lee Vs. The 5 Brothers (1978)</td>\n",
       "      <td>229337.0</td>\n",
       "      <td>5.0</td>\n",
       "    </tr>\n",
       "    <tr>\n",
       "      <th>26316</th>\n",
       "      <td>Living on Love (1937)</td>\n",
       "      <td>225652.0</td>\n",
       "      <td>5.0</td>\n",
       "    </tr>\n",
       "    <tr>\n",
       "      <th>8644</th>\n",
       "      <td>Change of Plans (2011)</td>\n",
       "      <td>132948.0</td>\n",
       "      <td>5.0</td>\n",
       "    </tr>\n",
       "  </tbody>\n",
       "</table>\n",
       "</div>"
      ],
      "text/plain": [
       "                                      title    userId  rating\n",
       "50501                 VHS Revolution (2017)  254422.0     5.0\n",
       "51532               We Are Mountains (1969)   74049.0     5.0\n",
       "13333  Dragon Lee Vs. The 5 Brothers (1978)  229337.0     5.0\n",
       "26316                 Living on Love (1937)  225652.0     5.0\n",
       "8644                 Change of Plans (2011)  132948.0     5.0"
      ]
     },
     "execution_count": 143,
     "metadata": {},
     "output_type": "execute_result"
    }
   ],
   "source": [
    "# Top 5 rated movies\n",
    "group_df = grouped_df.sort_values(by=\"rating\", ascending=False)\n",
    "group_df.head(5)"
   ]
  },
  {
   "cell_type": "code",
   "execution_count": 146,
   "metadata": {},
   "outputs": [
    {
     "data": {
      "text/plain": [
       "title     53817\n",
       "userId    53817\n",
       "rating    53817\n",
       "dtype: int64"
      ]
     },
     "execution_count": 146,
     "metadata": {},
     "output_type": "execute_result"
    }
   ],
   "source": [
    "group_df.count()"
   ]
  },
  {
   "cell_type": "markdown",
   "metadata": {},
   "source": [
    "53,817 rated movies"
   ]
  },
  {
   "cell_type": "code",
   "execution_count": 149,
   "metadata": {},
   "outputs": [
    {
     "data": {
      "text/plain": [
       "title     536\n",
       "userId    536\n",
       "rating    536\n",
       "dtype: int64"
      ]
     },
     "execution_count": 149,
     "metadata": {},
     "output_type": "execute_result"
    }
   ],
   "source": [
    "fivestar_df = group_df.loc[group_df[\"rating\"]==5.0]\n",
    "fivestar_df.count()"
   ]
  },
  {
   "cell_type": "markdown",
   "metadata": {},
   "source": [
    "There are 536 movies with an average rating of 5 stars.\n",
    "\n",
    "I would build the non personalized recommendation engine on these 536 movies!"
   ]
  }
 ],
 "metadata": {
  "kernelspec": {
   "display_name": "Python 3",
   "language": "python",
   "name": "python3"
  },
  "language_info": {
   "codemirror_mode": {
    "name": "ipython",
    "version": 3
   },
   "file_extension": ".py",
   "mimetype": "text/x-python",
   "name": "python",
   "nbconvert_exporter": "python",
   "pygments_lexer": "ipython3",
   "version": "3.8.3"
  }
 },
 "nbformat": 4,
 "nbformat_minor": 4
}
